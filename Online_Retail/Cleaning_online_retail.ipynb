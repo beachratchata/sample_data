{
 "metadata": {
  "language_info": {
   "codemirror_mode": {
    "name": "ipython",
    "version": 3
   },
   "file_extension": ".py",
   "mimetype": "text/x-python",
   "name": "python",
   "nbconvert_exporter": "python",
   "pygments_lexer": "ipython3",
   "version": "3.9.1-final"
  },
  "orig_nbformat": 2,
  "kernelspec": {
   "name": "python3",
   "display_name": "Python 3.9.1 64-bit",
   "metadata": {
    "interpreter": {
     "hash": "43435a050d4ac362dc4b1b4851a0333547cf4819a4e47175b9a0f2919a9b0b1b"
    }
   }
  }
 },
 "nbformat": 4,
 "nbformat_minor": 2,
 "cells": [
  {
   "cell_type": "code",
   "execution_count": 1,
   "metadata": {},
   "outputs": [],
   "source": [
    "from pyspark.sql import SparkSession"
   ]
  },
  {
   "cell_type": "code",
   "execution_count": 2,
   "metadata": {},
   "outputs": [],
   "source": [
    "from pyspark.sql.functions import *"
   ]
  },
  {
   "cell_type": "code",
   "execution_count": 3,
   "metadata": {},
   "outputs": [],
   "source": [
    "spark = SparkSession.builder.master('local[*]').getOrCreate()"
   ]
  },
  {
   "cell_type": "code",
   "execution_count": 4,
   "metadata": {},
   "outputs": [],
   "source": [
    "df = spark.read.csv('OnlineRetail.csv' , header=True , inferSchema=True)"
   ]
  },
  {
   "cell_type": "code",
   "execution_count": 5,
   "metadata": {},
   "outputs": [
    {
     "output_type": "stream",
     "name": "stdout",
     "text": [
      "+---------+---------+--------------------+--------+---------------+---------+----------+--------------+\n|InvoiceNo|StockCode|         Description|Quantity|    InvoiceDate|UnitPrice|CustomerID|       Country|\n+---------+---------+--------------------+--------+---------------+---------+----------+--------------+\n|   536365|   85123A|WHITE HANGING HEA...|       6|1/12/2018 08:26|     2.55|   17850.0|United Kingdom|\n|   536365|    71053| WHITE METAL LANTERN|       6|1/12/2018 08:26|     3.39|   17850.0|United Kingdom|\n|   536365|   84406B|CREAM CUPID HEART...|       8|1/12/2018 08:26|     2.75|   17850.0|United Kingdom|\n|   536365|   84029G|KNITTED UNION FLA...|       6|1/12/2018 08:26|     3.39|   17850.0|United Kingdom|\n|   536365|   84029E|RED WOOLLY HOTTIE...|       6|1/12/2018 08:26|     3.39|   17850.0|United Kingdom|\n|   536365|    22752|SET 7 BABUSHKA NE...|       2|1/12/2018 08:26|     7.65|   17850.0|United Kingdom|\n|   536365|    21730|GLASS STAR FROSTE...|       6|1/12/2018 08:26|     4.25|   17850.0|United Kingdom|\n|   536366|    22633|HAND WARMER UNION...|       6|1/12/2018 08:28|     1.85|   17850.0|United Kingdom|\n|   536366|    22632|HAND WARMER RED P...|       6|1/12/2018 08:28|     1.85|   17850.0|United Kingdom|\n|   536367|    84879|ASSORTED COLOUR B...|      32|1/12/2018 08:34|     1.69|   13047.0|United Kingdom|\n+---------+---------+--------------------+--------+---------------+---------+----------+--------------+\nonly showing top 10 rows\n\n"
     ]
    }
   ],
   "source": [
    "df.show(10)"
   ]
  },
  {
   "cell_type": "code",
   "execution_count": 6,
   "metadata": {},
   "outputs": [
    {
     "output_type": "stream",
     "name": "stdout",
     "text": [
      "root\n |-- InvoiceNo: string (nullable = true)\n |-- StockCode: string (nullable = true)\n |-- Description: string (nullable = true)\n |-- Quantity: integer (nullable = true)\n |-- InvoiceDate: string (nullable = true)\n |-- UnitPrice: double (nullable = true)\n |-- CustomerID: double (nullable = true)\n |-- Country: string (nullable = true)\n\n"
     ]
    }
   ],
   "source": [
    "df.printSchema()"
   ]
  },
  {
   "cell_type": "code",
   "execution_count": 7,
   "metadata": {},
   "outputs": [
    {
     "output_type": "stream",
     "name": "stdout",
     "text": [
      "+-------+-----------------+------------------+--------------------+------------------+---------------+-----------------+------------------+-----------+\n|summary|        InvoiceNo|         StockCode|         Description|          Quantity|    InvoiceDate|        UnitPrice|        CustomerID|    Country|\n+-------+-----------------+------------------+--------------------+------------------+---------------+-----------------+------------------+-----------+\n|  count|           541909|            541909|              540455|            541909|         541909|           541909|            406829|     541909|\n|   mean| 559965.752026781|27623.240210938104|             20713.0|  9.55224954743324|           null| 4.61111362608837|15287.690570239585|       null|\n| stddev|13428.41728079708|16799.737628427687|                 NaN|218.08115785023466|           null|96.75985306117981|1713.6003033215923|       null|\n|    min|           536365|             10002| 4 PURPLE FLOCK D...|            -80995|1/11/2019 08:16|        -11062.06|           12346.0|  Australia|\n|    max|          C581569|                 m|   wrongly sold sets|             80995| 9/9/2019 17:52|          38970.0|           18287.0|Unspecified|\n+-------+-----------------+------------------+--------------------+------------------+---------------+-----------------+------------------+-----------+\n\n"
     ]
    }
   ],
   "source": [
    "df.describe().show()"
   ]
  },
  {
   "cell_type": "code",
   "execution_count": 8,
   "metadata": {},
   "outputs": [
    {
     "output_type": "stream",
     "name": "stdout",
     "text": [
      "+---------+---------+--------------------+--------+---------------+---------+----------+--------------+\n|InvoiceNo|StockCode|         Description|Quantity|    InvoiceDate|UnitPrice|CustomerID|       Country|\n+---------+---------+--------------------+--------+---------------+---------+----------+--------------+\n|  C536379|        D|            Discount|      -1|1/12/2018 09:41|     27.5|   14527.0|United Kingdom|\n|  C536383|   35004C|SET OF 3 COLOURED...|      -1|1/12/2018 09:49|     4.65|   15311.0|United Kingdom|\n|  C536391|    22556|PLASTERS IN TIN C...|     -12|1/12/2018 10:24|     1.65|   17548.0|United Kingdom|\n|  C536391|    21984|PACK OF 12 PINK P...|     -24|1/12/2018 10:24|     0.29|   17548.0|United Kingdom|\n|  C536391|    21983|PACK OF 12 BLUE P...|     -24|1/12/2018 10:24|     0.29|   17548.0|United Kingdom|\n|  C536391|    21980|PACK OF 12 RED RE...|     -24|1/12/2018 10:24|     0.29|   17548.0|United Kingdom|\n|  C536391|    21484|CHICK GREY HOT WA...|     -12|1/12/2018 10:24|     3.45|   17548.0|United Kingdom|\n|  C536391|    22557|PLASTERS IN TIN V...|     -12|1/12/2018 10:24|     1.65|   17548.0|United Kingdom|\n|  C536391|    22553|PLASTERS IN TIN S...|     -24|1/12/2018 10:24|     1.65|   17548.0|United Kingdom|\n|  C536506|    22960|JAM MAKING SET WI...|      -6|1/12/2018 12:38|     4.25|   17897.0|United Kingdom|\n|  C536543|    22632|HAND WARMER RED R...|      -1|1/12/2018 14:30|      2.1|   17841.0|United Kingdom|\n|  C536543|    22355|CHARLOTTE BAG SUK...|      -2|1/12/2018 14:30|     0.85|   17841.0|United Kingdom|\n|  C536548|    22244|3 HOOK HANGER MAG...|      -4|1/12/2018 14:33|     1.95|   12472.0|       Germany|\n|  C536548|    22242|5 HOOK HANGER MAG...|      -5|1/12/2018 14:33|     1.65|   12472.0|       Germany|\n|  C536548|    20914|SET/5 RED RETROSP...|      -1|1/12/2018 14:33|     2.95|   12472.0|       Germany|\n|  C536548|    22892|SET OF SALT AND P...|      -7|1/12/2018 14:33|     1.25|   12472.0|       Germany|\n|  C536548|    22654|  DELUXE SEWING KIT |      -1|1/12/2018 14:33|     5.95|   12472.0|       Germany|\n|  C536548|    22767|TRIPLE PHOTO FRAM...|      -2|1/12/2018 14:33|     9.95|   12472.0|       Germany|\n|  C536548|    22333|RETROSPOT PARTY B...|      -1|1/12/2018 14:33|     1.65|   12472.0|       Germany|\n|  C536548|    22245|HOOK, 1 HANGER ,M...|      -2|1/12/2018 14:33|     0.85|   12472.0|       Germany|\n+---------+---------+--------------------+--------+---------------+---------+----------+--------------+\nonly showing top 20 rows\n\n"
     ]
    }
   ],
   "source": [
    "# ^C = Cancel Product\n",
    "\n",
    "df.where(\n",
    "    df['InvoiceNo'].rlike('^C')\n",
    ").show()"
   ]
  },
  {
   "cell_type": "code",
   "execution_count": 9,
   "metadata": {},
   "outputs": [],
   "source": [
    "df2 = df.where(\n",
    "    ~ df['InvoiceNo'].rlike('^C')\n",
    ")"
   ]
  },
  {
   "cell_type": "code",
   "execution_count": 10,
   "metadata": {},
   "outputs": [
    {
     "output_type": "stream",
     "name": "stdout",
     "text": [
      "+---------+---------+-----------+--------+-----------+---------+----------+-------+\n|InvoiceNo|StockCode|Description|Quantity|InvoiceDate|UnitPrice|CustomerID|Country|\n+---------+---------+-----------+--------+-----------+---------+----------+-------+\n+---------+---------+-----------+--------+-----------+---------+----------+-------+\n\n"
     ]
    }
   ],
   "source": [
    "df2.where(\n",
    "    df2['InvoiceNo'].rlike('^C')\n",
    ").show()"
   ]
  },
  {
   "cell_type": "code",
   "execution_count": 11,
   "metadata": {},
   "outputs": [
    {
     "output_type": "stream",
     "name": "stdout",
     "text": [
      "+---------+---------+-----------+--------+---------------+---------+----------+--------------+\n|InvoiceNo|StockCode|Description|Quantity|    InvoiceDate|UnitPrice|CustomerID|       Country|\n+---------+---------+-----------+--------+---------------+---------+----------+--------------+\n|   536589|    21777|       null|     -10|1/12/2018 16:50|      0.0|      null|United Kingdom|\n|   536764|   84952C|       null|     -38|2/12/2018 14:42|      0.0|      null|United Kingdom|\n|   536996|    22712|       null|     -20|3/12/2018 15:30|      0.0|      null|United Kingdom|\n|   536997|    22028|       null|     -20|3/12/2018 15:30|      0.0|      null|United Kingdom|\n|   536998|    85067|       null|      -6|3/12/2018 15:30|      0.0|      null|United Kingdom|\n|   537000|    21414|       null|     -22|3/12/2018 15:32|      0.0|      null|United Kingdom|\n|   537001|    21653|       null|      -6|3/12/2018 15:33|      0.0|      null|United Kingdom|\n|   537003|    85126|       null|      -2|3/12/2018 15:33|      0.0|      null|United Kingdom|\n|   537004|    21814|       null|     -30|3/12/2018 15:34|      0.0|      null|United Kingdom|\n|   537005|    21692|       null|     -70|3/12/2018 15:35|      0.0|      null|United Kingdom|\n|   537006|    21648|       null|    -130|3/12/2018 15:36|      0.0|      null|United Kingdom|\n|   537007|    21172|       null|     -80|3/12/2018 15:36|      0.0|      null|United Kingdom|\n|   537008|    21161|       null|    -120|3/12/2018 15:37|      0.0|      null|United Kingdom|\n|   537009|   84534B|       null|     -80|3/12/2018 15:38|      0.0|      null|United Kingdom|\n|   537010|    22162|       null|     -40|3/12/2018 15:38|      0.0|      null|United Kingdom|\n|   537011|    22139|       null|      -5|3/12/2018 15:38|      0.0|      null|United Kingdom|\n|   537012|    21535|       null|     -12|3/12/2018 15:39|      0.0|      null|United Kingdom|\n|   537013|    35965|       null|     -25|3/12/2018 15:40|      0.0|      null|United Kingdom|\n|   537014|    21040|       null|     -20|3/12/2018 15:40|      0.0|      null|United Kingdom|\n|   537015|    37464|       null|     -14|3/12/2018 15:41|      0.0|      null|United Kingdom|\n+---------+---------+-----------+--------+---------------+---------+----------+--------------+\nonly showing top 20 rows\n\n"
     ]
    }
   ],
   "source": [
    "# Quantity < 0 \n",
    "\n",
    "df2.where(\n",
    "    df2['Quantity'] < 0\n",
    ").show()"
   ]
  },
  {
   "cell_type": "code",
   "execution_count": 12,
   "metadata": {},
   "outputs": [],
   "source": [
    "df3 = df2.where(\n",
    "    df2['Quantity'] > 0\n",
    ")"
   ]
  },
  {
   "cell_type": "code",
   "execution_count": 13,
   "metadata": {},
   "outputs": [
    {
     "output_type": "stream",
     "name": "stdout",
     "text": [
      "+---------+---------+---------------+--------+---------------+---------+----------+--------------+\n|InvoiceNo|StockCode|    Description|Quantity|    InvoiceDate|UnitPrice|CustomerID|       Country|\n+---------+---------+---------------+--------+---------------+---------+----------+--------------+\n|  A563186|        B|Adjust bad debt|       1|12/8/2019 14:51|-11062.06|      null|United Kingdom|\n|  A563187|        B|Adjust bad debt|       1|12/8/2019 14:52|-11062.06|      null|United Kingdom|\n+---------+---------+---------------+--------+---------------+---------+----------+--------------+\n\n"
     ]
    }
   ],
   "source": [
    "# UnitPrice < 0\n",
    "\n",
    "df3.where(\n",
    "    df3['UnitPrice'] < 0\n",
    ").show()"
   ]
  },
  {
   "cell_type": "code",
   "execution_count": 14,
   "metadata": {},
   "outputs": [],
   "source": [
    "df4 = df3.where(\n",
    "    df3['UnitPrice'] > 0\n",
    ")"
   ]
  },
  {
   "cell_type": "code",
   "execution_count": 15,
   "metadata": {},
   "outputs": [
    {
     "output_type": "stream",
     "name": "stdout",
     "text": [
      "+-------+-----------------+------------------+--------------------+------------------+---------------+-----------------+------------------+-----------+\n|summary|        InvoiceNo|         StockCode|         Description|          Quantity|    InvoiceDate|        UnitPrice|        CustomerID|    Country|\n+-------+-----------------+------------------+--------------------+------------------+---------------+-----------------+------------------+-----------+\n|  count|           530104|            530104|              530104|            530104|         530104|           530104|            397884|     530104|\n|   mean|559981.4746888812|27591.351654656588|                null|10.542037034242338|           null|3.907625247122546|15294.423452564064|       null|\n| stddev|13430.04973766428|16756.848658106624|                null|155.52412351063666|           null|35.91568110425539|1713.1415604398564|       null|\n|    min|           536365|             10002| 4 PURPLE FLOCK D...|                 1|1/11/2019 08:16|            0.001|           12346.0|  Australia|\n|    max|          A563185|                 m|ZINC WIRE SWEETHE...|             80995| 9/9/2019 17:52|         13541.33|           18287.0|Unspecified|\n+-------+-----------------+------------------+--------------------+------------------+---------------+-----------------+------------------+-----------+\n\n"
     ]
    }
   ],
   "source": [
    "df4.describe().show()"
   ]
  },
  {
   "cell_type": "code",
   "execution_count": 16,
   "metadata": {},
   "outputs": [
    {
     "output_type": "stream",
     "name": "stdout",
     "text": [
      "+---------+------------+--------------+--------+---------------+---------+----------+--------------+\n|InvoiceNo|   StockCode|   Description|Quantity|    InvoiceDate|UnitPrice|CustomerID|       Country|\n+---------+------------+--------------+--------+---------------+---------+----------+--------------+\n|   536370|        POST|       POSTAGE|       3|1/12/2018 08:45|     18.0|   12583.0|        France|\n|   536403|        POST|       POSTAGE|       1|1/12/2018 11:27|     15.0|   12791.0|   Netherlands|\n|   536527|        POST|       POSTAGE|       1|1/12/2018 13:04|     18.0|   12662.0|       Germany|\n|   536540|          C2|      CARRIAGE|       1|1/12/2018 14:05|     50.0|   14911.0|          EIRE|\n|   536544|         DOT|DOTCOM POSTAGE|       1|1/12/2018 14:32|   569.77|      null|United Kingdom|\n|   536569|           M|        Manual|       1|1/12/2018 15:35|     1.25|   16274.0|United Kingdom|\n|   536569|           M|        Manual|       1|1/12/2018 15:35|    18.95|   16274.0|United Kingdom|\n|   536592|         DOT|DOTCOM POSTAGE|       1|1/12/2018 17:06|   607.49|      null|United Kingdom|\n|   536779|BANK CHARGES|  Bank Charges|       1|2/12/2018 15:08|     15.0|   15823.0|United Kingdom|\n|   536840|        POST|       POSTAGE|       1|2/12/2018 18:27|     18.0|   12738.0|       Germany|\n|   536852|        POST|       POSTAGE|       1|3/12/2018 09:51|     18.0|   12686.0|        France|\n|   536858|        POST|       POSTAGE|       2|3/12/2018 10:36|     40.0|   13520.0|   Switzerland|\n|   536861|        POST|       POSTAGE|       3|3/12/2018 10:44|     18.0|   12427.0|       Germany|\n|   536862|         DOT|DOTCOM POSTAGE|       1|3/12/2018 11:13|   254.43|      null|United Kingdom|\n|   536864|         DOT|DOTCOM POSTAGE|       1|3/12/2018 11:27|   121.06|      null|United Kingdom|\n|   536865|           M|        Manual|       1|3/12/2018 11:28|     2.55|      null|United Kingdom|\n|   536865|         DOT|DOTCOM POSTAGE|       1|3/12/2018 11:28|   498.47|      null|United Kingdom|\n|   536876|         DOT|DOTCOM POSTAGE|       1|3/12/2018 11:36|   887.52|      null|United Kingdom|\n|   536967|        POST|       POSTAGE|       1|3/12/2018 12:57|     18.0|   12600.0|       Germany|\n|   536974|        POST|       POSTAGE|       2|3/12/2018 13:59|     18.0|   12682.0|        France|\n+---------+------------+--------------+--------+---------------+---------+----------+--------------+\nonly showing top 20 rows\n\n"
     ]
    }
   ],
   "source": [
    "# StockCode only digits\n",
    "\n",
    "df4.where(\n",
    "    df4['StockCode'].rlike('^[\\D]')\n",
    ").show()"
   ]
  },
  {
   "cell_type": "code",
   "execution_count": 17,
   "metadata": {},
   "outputs": [],
   "source": [
    "df5 = df4.withColumn(\n",
    "    'StockCode' , regexp_replace('StockCode' , r'\\D' , '')\n",
    ")"
   ]
  },
  {
   "cell_type": "code",
   "execution_count": 18,
   "metadata": {},
   "outputs": [
    {
     "output_type": "stream",
     "name": "stdout",
     "text": [
      "+---------+---------+--------------------+--------+---------------+---------+----------+--------------+\n|InvoiceNo|StockCode|         Description|Quantity|    InvoiceDate|UnitPrice|CustomerID|       Country|\n+---------+---------+--------------------+--------+---------------+---------+----------+--------------+\n|   536365|    85123|WHITE HANGING HEA...|       6|1/12/2018 08:26|     2.55|   17850.0|United Kingdom|\n|   536365|    71053| WHITE METAL LANTERN|       6|1/12/2018 08:26|     3.39|   17850.0|United Kingdom|\n|   536365|    84406|CREAM CUPID HEART...|       8|1/12/2018 08:26|     2.75|   17850.0|United Kingdom|\n|   536365|    84029|KNITTED UNION FLA...|       6|1/12/2018 08:26|     3.39|   17850.0|United Kingdom|\n|   536365|    84029|RED WOOLLY HOTTIE...|       6|1/12/2018 08:26|     3.39|   17850.0|United Kingdom|\n|   536365|    22752|SET 7 BABUSHKA NE...|       2|1/12/2018 08:26|     7.65|   17850.0|United Kingdom|\n|   536365|    21730|GLASS STAR FROSTE...|       6|1/12/2018 08:26|     4.25|   17850.0|United Kingdom|\n|   536366|    22633|HAND WARMER UNION...|       6|1/12/2018 08:28|     1.85|   17850.0|United Kingdom|\n|   536366|    22632|HAND WARMER RED P...|       6|1/12/2018 08:28|     1.85|   17850.0|United Kingdom|\n|   536367|    84879|ASSORTED COLOUR B...|      32|1/12/2018 08:34|     1.69|   13047.0|United Kingdom|\n|   536367|    22745|POPPY'S PLAYHOUSE...|       6|1/12/2018 08:34|      2.1|   13047.0|United Kingdom|\n|   536367|    22748|POPPY'S PLAYHOUSE...|       6|1/12/2018 08:34|      2.1|   13047.0|United Kingdom|\n|   536367|    22749|FELTCRAFT PRINCES...|       8|1/12/2018 08:34|     3.75|   13047.0|United Kingdom|\n|   536367|    22310|IVORY KNITTED MUG...|       6|1/12/2018 08:34|     1.65|   13047.0|United Kingdom|\n|   536367|    84969|BOX OF 6 ASSORTED...|       6|1/12/2018 08:34|     4.25|   13047.0|United Kingdom|\n|   536367|    22623|BOX OF VINTAGE JI...|       3|1/12/2018 08:34|     4.95|   13047.0|United Kingdom|\n|   536367|    22622|BOX OF VINTAGE AL...|       2|1/12/2018 08:34|     9.95|   13047.0|United Kingdom|\n|   536367|    21754|HOME BUILDING BLO...|       3|1/12/2018 08:34|     5.95|   13047.0|United Kingdom|\n|   536367|    21755|LOVE BUILDING BLO...|       3|1/12/2018 08:34|     5.95|   13047.0|United Kingdom|\n|   536367|    21777|RECIPE BOX WITH M...|       4|1/12/2018 08:34|     7.95|   13047.0|United Kingdom|\n+---------+---------+--------------------+--------+---------------+---------+----------+--------------+\nonly showing top 20 rows\n\n"
     ]
    }
   ],
   "source": [
    "df5.show()"
   ]
  },
  {
   "cell_type": "code",
   "execution_count": 19,
   "metadata": {},
   "outputs": [
    {
     "output_type": "stream",
     "name": "stdout",
     "text": [
      "+---------+---------+-----------+--------+-----------+---------+----------+-------+\n|InvoiceNo|StockCode|Description|Quantity|InvoiceDate|UnitPrice|CustomerID|Country|\n+---------+---------+-----------+--------+-----------+---------+----------+-------+\n+---------+---------+-----------+--------+-----------+---------+----------+-------+\n\n"
     ]
    }
   ],
   "source": [
    "df5.where(\n",
    "    df5['StockCode'].rlike('^[\\D]')\n",
    ").show()"
   ]
  },
  {
   "cell_type": "code",
   "execution_count": 20,
   "metadata": {},
   "outputs": [
    {
     "output_type": "stream",
     "name": "stdout",
     "text": [
      "+-------+-----------------+------------------+--------------------+------------------+---------------+-----------------+------------------+-----------+\n|summary|        InvoiceNo|         StockCode|         Description|          Quantity|    InvoiceDate|        UnitPrice|        CustomerID|    Country|\n+-------+-----------------+------------------+--------------------+------------------+---------------+-----------------+------------------+-----------+\n|  count|           530104|            530104|              530104|            530104|         530104|           530104|            397884|     530104|\n|   mean|559981.4746888812|31469.135391528038|                null|10.542037034242338|           null|3.907625247122546|15294.423452564064|       null|\n| stddev|13430.04973766428| 21457.07875925214|                null|155.52412351063666|           null|35.91568110425539|1713.1415604398564|       null|\n|    min|           536365|                  | 4 PURPLE FLOCK D...|                 1|1/11/2019 08:16|            0.001|           12346.0|  Australia|\n|    max|          A563185|             90214|ZINC WIRE SWEETHE...|             80995| 9/9/2019 17:52|         13541.33|           18287.0|Unspecified|\n+-------+-----------------+------------------+--------------------+------------------+---------------+-----------------+------------------+-----------+\n\n"
     ]
    }
   ],
   "source": [
    "df5.describe().show()"
   ]
  },
  {
   "cell_type": "code",
   "execution_count": 21,
   "metadata": {},
   "outputs": [
    {
     "output_type": "stream",
     "name": "stdout",
     "text": [
      "+---------+---------+--------------+--------+---------------+---------+----------+--------------+\n|InvoiceNo|StockCode|   Description|Quantity|    InvoiceDate|UnitPrice|CustomerID|       Country|\n+---------+---------+--------------+--------+---------------+---------+----------+--------------+\n|   575138|         |DOTCOM POSTAGE|       1|8/11/2019 15:24|  1483.21|      null|United Kingdom|\n|   575144|         |       POSTAGE|       3|8/11/2019 15:38|     28.0|   12540.0|         Spain|\n|   574741|         |        Manual|       6|6/11/2019 16:13|     1.45|   15993.0|United Kingdom|\n|   575151|         |       POSTAGE|       1|8/11/2019 16:12|     15.0|   12395.0|       Belgium|\n|   574844|         |       POSTAGE|       1|7/11/2019 11:57|     28.0|   12783.0|      Portugal|\n|   575154|         |       POSTAGE|       2|8/11/2019 16:15|     18.0|   12395.0|       Belgium|\n|   574862|         |       POSTAGE|       5|7/11/2019 12:27|     15.0|   12408.0|       Belgium|\n|   574838|         |       POSTAGE|       5|7/11/2019 11:37|     28.0|   12484.0|         Spain|\n|   575304|         |        Manual|       1|9/11/2019 12:38|     1.25|   17841.0|United Kingdom|\n|   574856|         |DOTCOM POSTAGE|       1|7/11/2019 12:06|  1126.29|      null|United Kingdom|\n|   575034|         |        Manual|       1|8/11/2019 11:38|     7.95|   15573.0|United Kingdom|\n|   574869|         |       POSTAGE|       1|7/11/2019 12:44|     18.0|   12708.0|       Germany|\n|   575049|         |       POSTAGE|       3|8/11/2019 12:13|     18.0|   12721.0|        France|\n|   574885|         |       POSTAGE|       1|7/11/2019 14:01|     18.0|   12472.0|       Germany|\n|   575067|         |       POSTAGE|       2|8/11/2019 12:45|     18.0|   12583.0|        France|\n|   575176|         |DOTCOM POSTAGE|       1|8/11/2019 18:29|   428.78|      null|United Kingdom|\n|   575326|         |       POSTAGE|       2|9/11/2019 13:47|     18.0|   12532.0|        France|\n|   575177|         |DOTCOM POSTAGE|       1|8/11/2019 18:41|   375.71|      null|United Kingdom|\n|   575043|         |        Manual|       1|8/11/2019 12:06|     4.95|   13047.0|United Kingdom|\n|   575193|         |       POSTAGE|       5|9/11/2019 09:34|     18.0|   12681.0|        France|\n+---------+---------+--------------+--------+---------------+---------+----------+--------------+\nonly showing top 20 rows\n\n"
     ]
    }
   ],
   "source": [
    "df5.orderBy(asc('StockCode')).show()"
   ]
  },
  {
   "cell_type": "code",
   "execution_count": 22,
   "metadata": {},
   "outputs": [],
   "source": [
    "# StockCode 5 first Description letters\n",
    "\n",
    "df6 = df5.withColumn(\n",
    "    'StockCode' , when(df5['StockCode']=='' , df5['Description'].substr(1,5)).otherwise(df5['StockCode'])\n",
    ")"
   ]
  },
  {
   "cell_type": "code",
   "execution_count": 23,
   "metadata": {},
   "outputs": [
    {
     "output_type": "stream",
     "name": "stdout",
     "text": [
      "+---------+---------+-----------+--------+----------------+---------+----------+--------------+\n|InvoiceNo|StockCode|Description|Quantity|     InvoiceDate|UnitPrice|CustomerID|       Country|\n+---------+---------+-----------+--------+----------------+---------+----------+--------------+\n|   572849|    SAMPL|    SAMPLES|       1|26/10/2019 12:20|    33.05|      null|United Kingdom|\n|   549684|    SAMPL|    SAMPLES|       1| 11/4/2019 13:24|     30.0|      null|United Kingdom|\n|   575901|    POSTA|    POSTAGE|       1|11/11/2019 15:19|     1.69|      null|United Kingdom|\n|   575498|    POSTA|    POSTAGE|       1|10/11/2019 09:52|     18.0|   12708.0|       Germany|\n|   575581|    POSTA|    POSTAGE|       1|10/11/2019 11:53|     18.0|   12659.0|        France|\n|   574885|    POSTA|    POSTAGE|       1| 7/11/2019 14:01|     18.0|   12472.0|       Germany|\n|   575584|    POSTA|    POSTAGE|       1|10/11/2019 11:55|     18.0|   12682.0|        France|\n|   574838|    POSTA|    POSTAGE|       5| 7/11/2019 11:37|     28.0|   12484.0|         Spain|\n|   575629|    POSTA|    POSTAGE|       1|10/11/2019 13:34|     18.0|   12599.0|        France|\n|   574862|    POSTA|    POSTAGE|       5| 7/11/2019 12:27|     15.0|   12408.0|       Belgium|\n|   575671|    POSTA|    POSTAGE|       3|10/11/2019 15:03|     18.0|   12670.0|        France|\n|   575713|    POSTA|    POSTAGE|       2|10/11/2019 17:49|     18.0|   13817.0|       Germany|\n|   575732|    POSTA|    POSTAGE|       2|11/11/2019 08:19|     18.0|   12712.0|       Germany|\n|   575067|    POSTA|    POSTAGE|       2| 8/11/2019 12:45|     18.0|   12583.0|        France|\n|   575733|    POSTA|    POSTAGE|       1|11/11/2019 08:33|     18.0|   13810.0|       Germany|\n|   575151|    POSTA|    POSTAGE|       1| 8/11/2019 16:12|     15.0|   12395.0|       Belgium|\n|   575734|    POSTA|    POSTAGE|       2|11/11/2019 08:39|     40.0|   12384.0|   Switzerland|\n|   575736|    POSTA|    POSTAGE|       1|11/11/2019 08:47|     40.0|   12697.0|        Sweden|\n|   575326|    POSTA|    POSTAGE|       2| 9/11/2019 13:47|     18.0|   12532.0|        France|\n|   575747|    POSTA|    POSTAGE|       3|11/11/2019 10:19|     18.0|   12589.0|        France|\n+---------+---------+-----------+--------+----------------+---------+----------+--------------+\nonly showing top 20 rows\n\n"
     ]
    }
   ],
   "source": [
    "df6.orderBy(desc('StockCode')).show()"
   ]
  },
  {
   "cell_type": "code",
   "execution_count": 24,
   "metadata": {},
   "outputs": [
    {
     "output_type": "stream",
     "name": "stdout",
     "text": [
      "+---------+---------+--------------------+--------+---------------+---------+----------+--------------+\n|InvoiceNo|StockCode|         Description|Quantity|    InvoiceDate|UnitPrice|CustomerID|       Country|\n+---------+---------+--------------------+--------+---------------+---------+----------+--------------+\n|   536544|    21773|DECORATIVE ROSE B...|       1|1/12/2018 14:32|     2.51|      null|United Kingdom|\n|   536544|    21774|DECORATIVE CATS B...|       2|1/12/2018 14:32|     2.51|      null|United Kingdom|\n|   536544|    21786|  POLKADOT RAIN HAT |       4|1/12/2018 14:32|     0.85|      null|United Kingdom|\n|   536544|    21787|RAIN PONCHO RETRO...|       2|1/12/2018 14:32|     1.66|      null|United Kingdom|\n|   536544|    21790|  VINTAGE SNAP CARDS|       9|1/12/2018 14:32|     1.66|      null|United Kingdom|\n|   536544|    21791|VINTAGE HEADS AND...|       2|1/12/2018 14:32|     2.51|      null|United Kingdom|\n|   536544|    21801|CHRISTMAS TREE DE...|      10|1/12/2018 14:32|     0.43|      null|United Kingdom|\n|   536544|    21802|CHRISTMAS TREE HE...|       9|1/12/2018 14:32|     0.43|      null|United Kingdom|\n|   536544|    21803|CHRISTMAS TREE ST...|      11|1/12/2018 14:32|     0.43|      null|United Kingdom|\n|   536544|    21809|CHRISTMAS HANGING...|       1|1/12/2018 14:32|     2.51|      null|United Kingdom|\n|   536544|    21810|CHRISTMAS HANGING...|       3|1/12/2018 14:32|     2.51|      null|United Kingdom|\n|   536544|    21811|CHRISTMAS HANGING...|       1|1/12/2018 14:32|     2.51|      null|United Kingdom|\n|   536544|    21821|GLITTER STAR GARL...|       1|1/12/2018 14:32|     7.62|      null|United Kingdom|\n|   536544|    21822|GLITTER CHRISTMAS...|       1|1/12/2018 14:32|     4.21|      null|United Kingdom|\n|   536544|    21823|PAINTED METAL HEA...|       2|1/12/2018 14:32|     2.98|      null|United Kingdom|\n|   536544|    21844|   RED RETROSPOT MUG|       2|1/12/2018 14:32|     5.91|      null|United Kingdom|\n|   536544|    21851|LILAC DIAMANTE PE...|       1|1/12/2018 14:32|     4.21|      null|United Kingdom|\n|   536544|    21870|I CAN ONLY PLEASE...|       1|1/12/2018 14:32|     3.36|      null|United Kingdom|\n|   536544|    21871| SAVE THE PLANET MUG|       5|1/12/2018 14:32|     3.36|      null|United Kingdom|\n|   536544|    21874|   GIN AND TONIC MUG|       1|1/12/2018 14:32|     3.36|      null|United Kingdom|\n+---------+---------+--------------------+--------+---------------+---------+----------+--------------+\nonly showing top 20 rows\n\n"
     ]
    }
   ],
   "source": [
    "# CustomerID is null\n",
    "\n",
    "df6.where(\n",
    "    df6['CustomerID'].isNull()\n",
    ").show()"
   ]
  },
  {
   "cell_type": "code",
   "execution_count": 25,
   "metadata": {},
   "outputs": [],
   "source": [
    "df7 = df6.withColumn(\n",
    "    'CustomerID' , when(df6['CustomerID'].isNull() , 99999).otherwise(df6['CustomerID'])\n",
    ")"
   ]
  },
  {
   "cell_type": "code",
   "execution_count": 26,
   "metadata": {},
   "outputs": [
    {
     "output_type": "stream",
     "name": "stdout",
     "text": [
      "+---------+---------+--------------------+--------+---------------+---------+----------+--------------+\n|InvoiceNo|StockCode|         Description|Quantity|    InvoiceDate|UnitPrice|CustomerID|       Country|\n+---------+---------+--------------------+--------+---------------+---------+----------+--------------+\n|   536365|    85123|WHITE HANGING HEA...|       6|1/12/2018 08:26|     2.55|   17850.0|United Kingdom|\n|   536365|    71053| WHITE METAL LANTERN|       6|1/12/2018 08:26|     3.39|   17850.0|United Kingdom|\n|   536365|    84406|CREAM CUPID HEART...|       8|1/12/2018 08:26|     2.75|   17850.0|United Kingdom|\n|   536365|    84029|KNITTED UNION FLA...|       6|1/12/2018 08:26|     3.39|   17850.0|United Kingdom|\n|   536365|    84029|RED WOOLLY HOTTIE...|       6|1/12/2018 08:26|     3.39|   17850.0|United Kingdom|\n|   536365|    22752|SET 7 BABUSHKA NE...|       2|1/12/2018 08:26|     7.65|   17850.0|United Kingdom|\n|   536365|    21730|GLASS STAR FROSTE...|       6|1/12/2018 08:26|     4.25|   17850.0|United Kingdom|\n|   536366|    22633|HAND WARMER UNION...|       6|1/12/2018 08:28|     1.85|   17850.0|United Kingdom|\n|   536366|    22632|HAND WARMER RED P...|       6|1/12/2018 08:28|     1.85|   17850.0|United Kingdom|\n|   536367|    84879|ASSORTED COLOUR B...|      32|1/12/2018 08:34|     1.69|   13047.0|United Kingdom|\n|   536367|    22745|POPPY'S PLAYHOUSE...|       6|1/12/2018 08:34|      2.1|   13047.0|United Kingdom|\n|   536367|    22748|POPPY'S PLAYHOUSE...|       6|1/12/2018 08:34|      2.1|   13047.0|United Kingdom|\n|   536367|    22749|FELTCRAFT PRINCES...|       8|1/12/2018 08:34|     3.75|   13047.0|United Kingdom|\n|   536367|    22310|IVORY KNITTED MUG...|       6|1/12/2018 08:34|     1.65|   13047.0|United Kingdom|\n|   536367|    84969|BOX OF 6 ASSORTED...|       6|1/12/2018 08:34|     4.25|   13047.0|United Kingdom|\n|   536367|    22623|BOX OF VINTAGE JI...|       3|1/12/2018 08:34|     4.95|   13047.0|United Kingdom|\n|   536367|    22622|BOX OF VINTAGE AL...|       2|1/12/2018 08:34|     9.95|   13047.0|United Kingdom|\n|   536367|    21754|HOME BUILDING BLO...|       3|1/12/2018 08:34|     5.95|   13047.0|United Kingdom|\n|   536367|    21755|LOVE BUILDING BLO...|       3|1/12/2018 08:34|     5.95|   13047.0|United Kingdom|\n|   536367|    21777|RECIPE BOX WITH M...|       4|1/12/2018 08:34|     7.95|   13047.0|United Kingdom|\n+---------+---------+--------------------+--------+---------------+---------+----------+--------------+\nonly showing top 20 rows\n\n"
     ]
    }
   ],
   "source": [
    "df7.show()"
   ]
  },
  {
   "cell_type": "code",
   "execution_count": 27,
   "metadata": {},
   "outputs": [
    {
     "output_type": "stream",
     "name": "stdout",
     "text": [
      "+-------+-----------------+------------------+--------------------+------------------+---------------+-----------------+------------------+-----------+\n|summary|        InvoiceNo|         StockCode|         Description|          Quantity|    InvoiceDate|        UnitPrice|        CustomerID|    Country|\n+-------+-----------------+------------------+--------------------+------------------+---------------+-----------------+------------------+-----------+\n|  count|           530104|            530104|              530104|            530104|         530104|           530104|            530104|     530104|\n|   mean|559981.4746888812|31469.135391528038|                null|10.542037034242338|           null|3.907625247122546|36421.672277515354|       null|\n| stddev|13430.04973766428| 21457.07875925214|                null|155.52412351063666|           null|35.91568110425539|  36679.9589632566|       null|\n|    min|           536365|            000110| 4 PURPLE FLOCK D...|                 1|1/11/2019 08:16|            0.001|           12346.0|  Australia|\n|    max|          A563185|             SAMPL|ZINC WIRE SWEETHE...|             80995| 9/9/2019 17:52|         13541.33|           99999.0|Unspecified|\n+-------+-----------------+------------------+--------------------+------------------+---------------+-----------------+------------------+-----------+\n\n"
     ]
    }
   ],
   "source": [
    "df7.describe().show()"
   ]
  },
  {
   "cell_type": "code",
   "execution_count": 28,
   "metadata": {},
   "outputs": [
    {
     "output_type": "stream",
     "name": "stdout",
     "text": [
      "root\n |-- InvoiceNo: string (nullable = true)\n |-- StockCode: string (nullable = true)\n |-- Description: string (nullable = true)\n |-- Quantity: integer (nullable = true)\n |-- InvoiceDate: string (nullable = true)\n |-- UnitPrice: double (nullable = true)\n |-- CustomerID: double (nullable = true)\n |-- Country: string (nullable = true)\n\n"
     ]
    }
   ],
   "source": [
    "df7.printSchema()"
   ]
  },
  {
   "cell_type": "code",
   "execution_count": 29,
   "metadata": {},
   "outputs": [
    {
     "output_type": "stream",
     "name": "stdout",
     "text": [
      "+---------+---------+--------------------+--------+---------------+---------+----------+--------------+\n|InvoiceNo|StockCode|         Description|Quantity|    InvoiceDate|UnitPrice|CustomerID|       Country|\n+---------+---------+--------------------+--------+---------------+---------+----------+--------------+\n|   536365|    85123|WHITE HANGING HEA...|       6|1/12/2018 08:26|     2.55|   17850.0|United Kingdom|\n|   536365|    71053| WHITE METAL LANTERN|       6|1/12/2018 08:26|     3.39|   17850.0|United Kingdom|\n|   536365|    84406|CREAM CUPID HEART...|       8|1/12/2018 08:26|     2.75|   17850.0|United Kingdom|\n|   536365|    84029|KNITTED UNION FLA...|       6|1/12/2018 08:26|     3.39|   17850.0|United Kingdom|\n|   536365|    84029|RED WOOLLY HOTTIE...|       6|1/12/2018 08:26|     3.39|   17850.0|United Kingdom|\n|   536365|    22752|SET 7 BABUSHKA NE...|       2|1/12/2018 08:26|     7.65|   17850.0|United Kingdom|\n|   536365|    21730|GLASS STAR FROSTE...|       6|1/12/2018 08:26|     4.25|   17850.0|United Kingdom|\n|   536366|    22633|HAND WARMER UNION...|       6|1/12/2018 08:28|     1.85|   17850.0|United Kingdom|\n|   536366|    22632|HAND WARMER RED P...|       6|1/12/2018 08:28|     1.85|   17850.0|United Kingdom|\n|   536367|    84879|ASSORTED COLOUR B...|      32|1/12/2018 08:34|     1.69|   13047.0|United Kingdom|\n|   536367|    22745|POPPY'S PLAYHOUSE...|       6|1/12/2018 08:34|      2.1|   13047.0|United Kingdom|\n|   536367|    22748|POPPY'S PLAYHOUSE...|       6|1/12/2018 08:34|      2.1|   13047.0|United Kingdom|\n|   536367|    22749|FELTCRAFT PRINCES...|       8|1/12/2018 08:34|     3.75|   13047.0|United Kingdom|\n|   536367|    22310|IVORY KNITTED MUG...|       6|1/12/2018 08:34|     1.65|   13047.0|United Kingdom|\n|   536367|    84969|BOX OF 6 ASSORTED...|       6|1/12/2018 08:34|     4.25|   13047.0|United Kingdom|\n|   536367|    22623|BOX OF VINTAGE JI...|       3|1/12/2018 08:34|     4.95|   13047.0|United Kingdom|\n|   536367|    22622|BOX OF VINTAGE AL...|       2|1/12/2018 08:34|     9.95|   13047.0|United Kingdom|\n|   536367|    21754|HOME BUILDING BLO...|       3|1/12/2018 08:34|     5.95|   13047.0|United Kingdom|\n|   536367|    21755|LOVE BUILDING BLO...|       3|1/12/2018 08:34|     5.95|   13047.0|United Kingdom|\n|   536367|    21777|RECIPE BOX WITH M...|       4|1/12/2018 08:34|     7.95|   13047.0|United Kingdom|\n+---------+---------+--------------------+--------+---------------+---------+----------+--------------+\nonly showing top 20 rows\n\n"
     ]
    }
   ],
   "source": [
    "df7.show()"
   ]
  },
  {
   "cell_type": "code",
   "execution_count": 30,
   "metadata": {},
   "outputs": [],
   "source": [
    "# CustomerID to int\n",
    "\n",
    "df8 = df7.withColumn(\n",
    "    'CustomerID' , df7['CustomerID'].cast('int')\n",
    ")"
   ]
  },
  {
   "cell_type": "code",
   "execution_count": 31,
   "metadata": {},
   "outputs": [],
   "source": [
    "# CustomerID to str\n",
    "\n",
    "df9 = df8.withColumn(\n",
    "    'CustomerID' , df8['CustomerID'].cast('string')\n",
    ")"
   ]
  },
  {
   "cell_type": "code",
   "execution_count": 32,
   "metadata": {},
   "outputs": [
    {
     "output_type": "stream",
     "name": "stdout",
     "text": [
      "+---------+---------+--------------------+--------+---------------+---------+----------+--------------+\n|InvoiceNo|StockCode|         Description|Quantity|    InvoiceDate|UnitPrice|CustomerID|       Country|\n+---------+---------+--------------------+--------+---------------+---------+----------+--------------+\n|   536365|    85123|WHITE HANGING HEA...|       6|1/12/2018 08:26|     2.55|     17850|United Kingdom|\n|   536365|    71053| WHITE METAL LANTERN|       6|1/12/2018 08:26|     3.39|     17850|United Kingdom|\n|   536365|    84406|CREAM CUPID HEART...|       8|1/12/2018 08:26|     2.75|     17850|United Kingdom|\n|   536365|    84029|KNITTED UNION FLA...|       6|1/12/2018 08:26|     3.39|     17850|United Kingdom|\n|   536365|    84029|RED WOOLLY HOTTIE...|       6|1/12/2018 08:26|     3.39|     17850|United Kingdom|\n|   536365|    22752|SET 7 BABUSHKA NE...|       2|1/12/2018 08:26|     7.65|     17850|United Kingdom|\n|   536365|    21730|GLASS STAR FROSTE...|       6|1/12/2018 08:26|     4.25|     17850|United Kingdom|\n|   536366|    22633|HAND WARMER UNION...|       6|1/12/2018 08:28|     1.85|     17850|United Kingdom|\n|   536366|    22632|HAND WARMER RED P...|       6|1/12/2018 08:28|     1.85|     17850|United Kingdom|\n|   536367|    84879|ASSORTED COLOUR B...|      32|1/12/2018 08:34|     1.69|     13047|United Kingdom|\n|   536367|    22745|POPPY'S PLAYHOUSE...|       6|1/12/2018 08:34|      2.1|     13047|United Kingdom|\n|   536367|    22748|POPPY'S PLAYHOUSE...|       6|1/12/2018 08:34|      2.1|     13047|United Kingdom|\n|   536367|    22749|FELTCRAFT PRINCES...|       8|1/12/2018 08:34|     3.75|     13047|United Kingdom|\n|   536367|    22310|IVORY KNITTED MUG...|       6|1/12/2018 08:34|     1.65|     13047|United Kingdom|\n|   536367|    84969|BOX OF 6 ASSORTED...|       6|1/12/2018 08:34|     4.25|     13047|United Kingdom|\n|   536367|    22623|BOX OF VINTAGE JI...|       3|1/12/2018 08:34|     4.95|     13047|United Kingdom|\n|   536367|    22622|BOX OF VINTAGE AL...|       2|1/12/2018 08:34|     9.95|     13047|United Kingdom|\n|   536367|    21754|HOME BUILDING BLO...|       3|1/12/2018 08:34|     5.95|     13047|United Kingdom|\n|   536367|    21755|LOVE BUILDING BLO...|       3|1/12/2018 08:34|     5.95|     13047|United Kingdom|\n|   536367|    21777|RECIPE BOX WITH M...|       4|1/12/2018 08:34|     7.95|     13047|United Kingdom|\n+---------+---------+--------------------+--------+---------------+---------+----------+--------------+\nonly showing top 20 rows\n\n"
     ]
    }
   ],
   "source": [
    "df9.show()"
   ]
  },
  {
   "cell_type": "code",
   "execution_count": 33,
   "metadata": {},
   "outputs": [],
   "source": [
    "import pandas as pd"
   ]
  },
  {
   "cell_type": "code",
   "execution_count": 34,
   "metadata": {},
   "outputs": [],
   "source": [
    "online_retail = df9.toPandas()"
   ]
  },
  {
   "cell_type": "code",
   "execution_count": 35,
   "metadata": {},
   "outputs": [
    {
     "output_type": "execute_result",
     "data": {
      "text/plain": [
       "       InvoiceNo StockCode                          Description  Quantity  \\\n",
       "0         536365     85123   WHITE HANGING HEART T-LIGHT HOLDER         6   \n",
       "1         536365     71053                  WHITE METAL LANTERN         6   \n",
       "2         536365     84406       CREAM CUPID HEARTS COAT HANGER         8   \n",
       "3         536365     84029  KNITTED UNION FLAG HOT WATER BOTTLE         6   \n",
       "4         536365     84029       RED WOOLLY HOTTIE WHITE HEART.         6   \n",
       "...          ...       ...                                  ...       ...   \n",
       "530099    581587     22613          PACK OF 20 SPACEBOY NAPKINS        12   \n",
       "530100    581587     22899         CHILDREN'S APRON DOLLY GIRL          6   \n",
       "530101    581587     23254        CHILDRENS CUTLERY DOLLY GIRL          4   \n",
       "530102    581587     23255      CHILDRENS CUTLERY CIRCUS PARADE         4   \n",
       "530103    581587     22138        BAKING SET 9 PIECE RETROSPOT          3   \n",
       "\n",
       "            InvoiceDate  UnitPrice CustomerID         Country  \n",
       "0       1/12/2018 08:26       2.55      17850  United Kingdom  \n",
       "1       1/12/2018 08:26       3.39      17850  United Kingdom  \n",
       "2       1/12/2018 08:26       2.75      17850  United Kingdom  \n",
       "3       1/12/2018 08:26       3.39      17850  United Kingdom  \n",
       "4       1/12/2018 08:26       3.39      17850  United Kingdom  \n",
       "...                 ...        ...        ...             ...  \n",
       "530099  9/12/2019 12:50       0.85      12680          France  \n",
       "530100  9/12/2019 12:50       2.10      12680          France  \n",
       "530101  9/12/2019 12:50       4.15      12680          France  \n",
       "530102  9/12/2019 12:50       4.15      12680          France  \n",
       "530103  9/12/2019 12:50       4.95      12680          France  \n",
       "\n",
       "[530104 rows x 8 columns]"
      ],
      "text/html": "<div>\n<style scoped>\n    .dataframe tbody tr th:only-of-type {\n        vertical-align: middle;\n    }\n\n    .dataframe tbody tr th {\n        vertical-align: top;\n    }\n\n    .dataframe thead th {\n        text-align: right;\n    }\n</style>\n<table border=\"1\" class=\"dataframe\">\n  <thead>\n    <tr style=\"text-align: right;\">\n      <th></th>\n      <th>InvoiceNo</th>\n      <th>StockCode</th>\n      <th>Description</th>\n      <th>Quantity</th>\n      <th>InvoiceDate</th>\n      <th>UnitPrice</th>\n      <th>CustomerID</th>\n      <th>Country</th>\n    </tr>\n  </thead>\n  <tbody>\n    <tr>\n      <th>0</th>\n      <td>536365</td>\n      <td>85123</td>\n      <td>WHITE HANGING HEART T-LIGHT HOLDER</td>\n      <td>6</td>\n      <td>1/12/2018 08:26</td>\n      <td>2.55</td>\n      <td>17850</td>\n      <td>United Kingdom</td>\n    </tr>\n    <tr>\n      <th>1</th>\n      <td>536365</td>\n      <td>71053</td>\n      <td>WHITE METAL LANTERN</td>\n      <td>6</td>\n      <td>1/12/2018 08:26</td>\n      <td>3.39</td>\n      <td>17850</td>\n      <td>United Kingdom</td>\n    </tr>\n    <tr>\n      <th>2</th>\n      <td>536365</td>\n      <td>84406</td>\n      <td>CREAM CUPID HEARTS COAT HANGER</td>\n      <td>8</td>\n      <td>1/12/2018 08:26</td>\n      <td>2.75</td>\n      <td>17850</td>\n      <td>United Kingdom</td>\n    </tr>\n    <tr>\n      <th>3</th>\n      <td>536365</td>\n      <td>84029</td>\n      <td>KNITTED UNION FLAG HOT WATER BOTTLE</td>\n      <td>6</td>\n      <td>1/12/2018 08:26</td>\n      <td>3.39</td>\n      <td>17850</td>\n      <td>United Kingdom</td>\n    </tr>\n    <tr>\n      <th>4</th>\n      <td>536365</td>\n      <td>84029</td>\n      <td>RED WOOLLY HOTTIE WHITE HEART.</td>\n      <td>6</td>\n      <td>1/12/2018 08:26</td>\n      <td>3.39</td>\n      <td>17850</td>\n      <td>United Kingdom</td>\n    </tr>\n    <tr>\n      <th>...</th>\n      <td>...</td>\n      <td>...</td>\n      <td>...</td>\n      <td>...</td>\n      <td>...</td>\n      <td>...</td>\n      <td>...</td>\n      <td>...</td>\n    </tr>\n    <tr>\n      <th>530099</th>\n      <td>581587</td>\n      <td>22613</td>\n      <td>PACK OF 20 SPACEBOY NAPKINS</td>\n      <td>12</td>\n      <td>9/12/2019 12:50</td>\n      <td>0.85</td>\n      <td>12680</td>\n      <td>France</td>\n    </tr>\n    <tr>\n      <th>530100</th>\n      <td>581587</td>\n      <td>22899</td>\n      <td>CHILDREN'S APRON DOLLY GIRL</td>\n      <td>6</td>\n      <td>9/12/2019 12:50</td>\n      <td>2.10</td>\n      <td>12680</td>\n      <td>France</td>\n    </tr>\n    <tr>\n      <th>530101</th>\n      <td>581587</td>\n      <td>23254</td>\n      <td>CHILDRENS CUTLERY DOLLY GIRL</td>\n      <td>4</td>\n      <td>9/12/2019 12:50</td>\n      <td>4.15</td>\n      <td>12680</td>\n      <td>France</td>\n    </tr>\n    <tr>\n      <th>530102</th>\n      <td>581587</td>\n      <td>23255</td>\n      <td>CHILDRENS CUTLERY CIRCUS PARADE</td>\n      <td>4</td>\n      <td>9/12/2019 12:50</td>\n      <td>4.15</td>\n      <td>12680</td>\n      <td>France</td>\n    </tr>\n    <tr>\n      <th>530103</th>\n      <td>581587</td>\n      <td>22138</td>\n      <td>BAKING SET 9 PIECE RETROSPOT</td>\n      <td>3</td>\n      <td>9/12/2019 12:50</td>\n      <td>4.95</td>\n      <td>12680</td>\n      <td>France</td>\n    </tr>\n  </tbody>\n</table>\n<p>530104 rows × 8 columns</p>\n</div>"
     },
     "metadata": {},
     "execution_count": 35
    }
   ],
   "source": [
    "online_retail"
   ]
  },
  {
   "cell_type": "code",
   "execution_count": 36,
   "metadata": {},
   "outputs": [
    {
     "output_type": "stream",
     "name": "stdout",
     "text": [
      "<class 'pandas.core.frame.DataFrame'>\nRangeIndex: 530104 entries, 0 to 530103\nData columns (total 8 columns):\n #   Column       Non-Null Count   Dtype  \n---  ------       --------------   -----  \n 0   InvoiceNo    530104 non-null  object \n 1   StockCode    530104 non-null  object \n 2   Description  530104 non-null  object \n 3   Quantity     530104 non-null  int32  \n 4   InvoiceDate  530104 non-null  object \n 5   UnitPrice    530104 non-null  float64\n 6   CustomerID   530104 non-null  object \n 7   Country      530104 non-null  object \ndtypes: float64(1), int32(1), object(6)\nmemory usage: 30.3+ MB\n"
     ]
    }
   ],
   "source": [
    "online_retail.info()"
   ]
  },
  {
   "cell_type": "code",
   "execution_count": 37,
   "metadata": {},
   "outputs": [],
   "source": [
    "# Converst InvoiceDate to datetime\r\n",
    "\r\n",
    "online_retail['InvoiceDate'] = pd.to_datetime(online_retail['InvoiceDate'])"
   ]
  },
  {
   "cell_type": "code",
   "execution_count": 38,
   "metadata": {},
   "outputs": [
    {
     "output_type": "execute_result",
     "data": {
      "text/plain": [
       "       InvoiceNo StockCode                          Description  Quantity  \\\n",
       "0         536365     85123   WHITE HANGING HEART T-LIGHT HOLDER         6   \n",
       "1         536365     71053                  WHITE METAL LANTERN         6   \n",
       "2         536365     84406       CREAM CUPID HEARTS COAT HANGER         8   \n",
       "3         536365     84029  KNITTED UNION FLAG HOT WATER BOTTLE         6   \n",
       "4         536365     84029       RED WOOLLY HOTTIE WHITE HEART.         6   \n",
       "...          ...       ...                                  ...       ...   \n",
       "530099    581587     22613          PACK OF 20 SPACEBOY NAPKINS        12   \n",
       "530100    581587     22899         CHILDREN'S APRON DOLLY GIRL          6   \n",
       "530101    581587     23254        CHILDRENS CUTLERY DOLLY GIRL          4   \n",
       "530102    581587     23255      CHILDRENS CUTLERY CIRCUS PARADE         4   \n",
       "530103    581587     22138        BAKING SET 9 PIECE RETROSPOT          3   \n",
       "\n",
       "               InvoiceDate  UnitPrice CustomerID         Country  \n",
       "0      2018-01-12 08:26:00       2.55      17850  United Kingdom  \n",
       "1      2018-01-12 08:26:00       3.39      17850  United Kingdom  \n",
       "2      2018-01-12 08:26:00       2.75      17850  United Kingdom  \n",
       "3      2018-01-12 08:26:00       3.39      17850  United Kingdom  \n",
       "4      2018-01-12 08:26:00       3.39      17850  United Kingdom  \n",
       "...                    ...        ...        ...             ...  \n",
       "530099 2019-09-12 12:50:00       0.85      12680          France  \n",
       "530100 2019-09-12 12:50:00       2.10      12680          France  \n",
       "530101 2019-09-12 12:50:00       4.15      12680          France  \n",
       "530102 2019-09-12 12:50:00       4.15      12680          France  \n",
       "530103 2019-09-12 12:50:00       4.95      12680          France  \n",
       "\n",
       "[530104 rows x 8 columns]"
      ],
      "text/html": "<div>\n<style scoped>\n    .dataframe tbody tr th:only-of-type {\n        vertical-align: middle;\n    }\n\n    .dataframe tbody tr th {\n        vertical-align: top;\n    }\n\n    .dataframe thead th {\n        text-align: right;\n    }\n</style>\n<table border=\"1\" class=\"dataframe\">\n  <thead>\n    <tr style=\"text-align: right;\">\n      <th></th>\n      <th>InvoiceNo</th>\n      <th>StockCode</th>\n      <th>Description</th>\n      <th>Quantity</th>\n      <th>InvoiceDate</th>\n      <th>UnitPrice</th>\n      <th>CustomerID</th>\n      <th>Country</th>\n    </tr>\n  </thead>\n  <tbody>\n    <tr>\n      <th>0</th>\n      <td>536365</td>\n      <td>85123</td>\n      <td>WHITE HANGING HEART T-LIGHT HOLDER</td>\n      <td>6</td>\n      <td>2018-01-12 08:26:00</td>\n      <td>2.55</td>\n      <td>17850</td>\n      <td>United Kingdom</td>\n    </tr>\n    <tr>\n      <th>1</th>\n      <td>536365</td>\n      <td>71053</td>\n      <td>WHITE METAL LANTERN</td>\n      <td>6</td>\n      <td>2018-01-12 08:26:00</td>\n      <td>3.39</td>\n      <td>17850</td>\n      <td>United Kingdom</td>\n    </tr>\n    <tr>\n      <th>2</th>\n      <td>536365</td>\n      <td>84406</td>\n      <td>CREAM CUPID HEARTS COAT HANGER</td>\n      <td>8</td>\n      <td>2018-01-12 08:26:00</td>\n      <td>2.75</td>\n      <td>17850</td>\n      <td>United Kingdom</td>\n    </tr>\n    <tr>\n      <th>3</th>\n      <td>536365</td>\n      <td>84029</td>\n      <td>KNITTED UNION FLAG HOT WATER BOTTLE</td>\n      <td>6</td>\n      <td>2018-01-12 08:26:00</td>\n      <td>3.39</td>\n      <td>17850</td>\n      <td>United Kingdom</td>\n    </tr>\n    <tr>\n      <th>4</th>\n      <td>536365</td>\n      <td>84029</td>\n      <td>RED WOOLLY HOTTIE WHITE HEART.</td>\n      <td>6</td>\n      <td>2018-01-12 08:26:00</td>\n      <td>3.39</td>\n      <td>17850</td>\n      <td>United Kingdom</td>\n    </tr>\n    <tr>\n      <th>...</th>\n      <td>...</td>\n      <td>...</td>\n      <td>...</td>\n      <td>...</td>\n      <td>...</td>\n      <td>...</td>\n      <td>...</td>\n      <td>...</td>\n    </tr>\n    <tr>\n      <th>530099</th>\n      <td>581587</td>\n      <td>22613</td>\n      <td>PACK OF 20 SPACEBOY NAPKINS</td>\n      <td>12</td>\n      <td>2019-09-12 12:50:00</td>\n      <td>0.85</td>\n      <td>12680</td>\n      <td>France</td>\n    </tr>\n    <tr>\n      <th>530100</th>\n      <td>581587</td>\n      <td>22899</td>\n      <td>CHILDREN'S APRON DOLLY GIRL</td>\n      <td>6</td>\n      <td>2019-09-12 12:50:00</td>\n      <td>2.10</td>\n      <td>12680</td>\n      <td>France</td>\n    </tr>\n    <tr>\n      <th>530101</th>\n      <td>581587</td>\n      <td>23254</td>\n      <td>CHILDRENS CUTLERY DOLLY GIRL</td>\n      <td>4</td>\n      <td>2019-09-12 12:50:00</td>\n      <td>4.15</td>\n      <td>12680</td>\n      <td>France</td>\n    </tr>\n    <tr>\n      <th>530102</th>\n      <td>581587</td>\n      <td>23255</td>\n      <td>CHILDRENS CUTLERY CIRCUS PARADE</td>\n      <td>4</td>\n      <td>2019-09-12 12:50:00</td>\n      <td>4.15</td>\n      <td>12680</td>\n      <td>France</td>\n    </tr>\n    <tr>\n      <th>530103</th>\n      <td>581587</td>\n      <td>22138</td>\n      <td>BAKING SET 9 PIECE RETROSPOT</td>\n      <td>3</td>\n      <td>2019-09-12 12:50:00</td>\n      <td>4.95</td>\n      <td>12680</td>\n      <td>France</td>\n    </tr>\n  </tbody>\n</table>\n<p>530104 rows × 8 columns</p>\n</div>"
     },
     "metadata": {},
     "execution_count": 38
    }
   ],
   "source": [
    "online_retail"
   ]
  },
  {
   "cell_type": "code",
   "execution_count": 39,
   "metadata": {},
   "outputs": [],
   "source": [
    "from sqlalchemy import create_engine"
   ]
  },
  {
   "cell_type": "code",
   "execution_count": 40,
   "metadata": {},
   "outputs": [],
   "source": [
    "my_database = 'mysql+mysqldb://'+'beachratchata'+':'+'123456789'+'@'+'db4free.net'+':3306/'+'beachdata'+'?charset=utf8mb4'\n",
    "engine = create_engine(my_database)"
   ]
  },
  {
   "cell_type": "code",
   "execution_count": 41,
   "metadata": {},
   "outputs": [],
   "source": [
    "# Import Dataframe into database\n",
    "\n",
    "online_retail.to_sql('online_retail' , engine , if_exists='replace' , index=False)"
   ]
  },
  {
   "cell_type": "code",
   "execution_count": null,
   "metadata": {},
   "outputs": [],
   "source": []
  }
 ]
}